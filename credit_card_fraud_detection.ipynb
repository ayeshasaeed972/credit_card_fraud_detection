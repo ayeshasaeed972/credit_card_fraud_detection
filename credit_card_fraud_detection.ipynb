{
        "cells": [{
            "cell_type": "markdown",
            "metadata": {},
            "source": [
                "# 💳 Credit Card Fraud Detection\n",
                "## Complete Machine Learning Project\n",
                "### by Your Name"
            ]
        }],
        "metadata": {
            "kernelspec": {"display_name": "Python 3", "name": "python3"}
        },
        "nbformat": 4,
        "nbformat_minor": 0
    }